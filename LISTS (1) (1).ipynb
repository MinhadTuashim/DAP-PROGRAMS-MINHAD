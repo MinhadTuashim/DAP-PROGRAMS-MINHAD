{
  "metadata": {
    "kernelspec": {
      "name": "python",
      "display_name": "Python (Pyodide)",
      "language": "python"
    },
    "language_info": {
      "codemirror_mode": {
        "name": "python",
        "version": 3
      },
      "file_extension": ".py",
      "mimetype": "text/x-python",
      "name": "python",
      "nbconvert_exporter": "python",
      "pygments_lexer": "ipython3",
      "version": "3.8"
    }
  },
  "nbformat_minor": 4,
  "nbformat": 4,
  "cells": [
    {
      "cell_type": "code",
      "source": "#LIST PROGRAMS",
      "metadata": {
        "trusted": true
      },
      "outputs": [],
      "execution_count": 2
    },
    {
      "cell_type": "code",
      "source": "#1 Python program to interchange the first and last element of a list\nmyList = [2, 7, 3, 90, 23, 9]\nprint(\"Initial List : \", myList)\nlength = len(myList)\ntemp = myList[0]\nmyList[0] = myList[length - 1]\nmyList[length - 1] = temp\n\nprint(\"List after INTERCHANGE : \", myList)\n",
      "metadata": {
        "trusted": true
      },
      "outputs": [
        {
          "name": "stdout",
          "text": "Initial List :  [2, 7, 3, 90, 23, 9]\nList after INTERCHANGE :  [9, 7, 3, 90, 23, 2]\n",
          "output_type": "stream"
        }
      ],
      "execution_count": 4
    },
    {
      "cell_type": "code",
      "source": "#2 Python program to swap two elements in a list\nmy_list = [\"A\", \"B\", \"C\", \"D\", \"E\", \"F\"]\ntemp = my_list[2]\nmy_list[2] = my_list[4]\nmy_list[4] = temp\nprint(my_list)",
      "metadata": {
        "trusted": true
      },
      "outputs": [
        {
          "name": "stdout",
          "text": "['A', 'B', 'E', 'D', 'C', 'F']\n",
          "output_type": "stream"
        }
      ],
      "execution_count": 5
    },
    {
      "cell_type": "code",
      "source": "#3 Python Ways to find length of list\n# Python len()\nli = [1, 2, 3,4]\nn = len(li)\nprint(\"The length of list is: \", n)\n\n # Using loop\n    length2 = 0\n    for _ in lst:\n        length2 += 1\n        \n# Using list comprehension\n    length3 = sum(1 for _ in lst)\n\n    return length1, length2, length3",
      "metadata": {
        "trusted": true
      },
      "outputs": [
        {
          "name": "stdout",
          "text": "The length of list is:  4\n",
          "output_type": "stream"
        }
      ],
      "execution_count": 6
    },
    {
      "cell_type": "code",
      "source": "#4 Python Ways to check if element exists in list\ndef check_element_existence(lst, element):\n    # Using 'in' operator\n    method1 = element in lst\n\n    # Using count() method\n    method2 = lst.count(element) > 0\n\n    # Using any() with list comprehension\n    method3 = any(item == element for item in lst)\n\n    return method1, method2, method3\n",
      "metadata": {
        "trusted": true
      },
      "outputs": [],
      "execution_count": 12
    },
    {
      "cell_type": "code",
      "source": "#5 Different ways to clear a list in Python\ndef clear_list(lst):\n    # Method 1: Using clear() method\n    lst.clear()\n\n    # Method 2: Using assignment to an empty list\n    lst = []\n\n    # Method 3: Using slicing with an empty list\n    lst[:] = []\n    return lst\n# Example\nlist = [4, 12, 41, 40, 5]\nresult = clear_list(my_list.copy())\nprint(\"List after clearing:\", result)",
      "metadata": {
        "trusted": true
      },
      "outputs": [
        {
          "name": "stdout",
          "text": "List after clearing: []\n",
          "output_type": "stream"
        }
      ],
      "execution_count": 9
    },
    {
      "cell_type": "code",
      "source": "#6 Reversing a List\nvalues = [1, 2, 3, 4, 5]\nvalues.reverse()\nprint(values)\n\n",
      "metadata": {
        "trusted": true
      },
      "outputs": [
        {
          "name": "stdout",
          "text": "[5, 4, 3, 2, 1]\n",
          "output_type": "stream"
        }
      ],
      "execution_count": 13
    },
    {
      "cell_type": "code",
      "source": "#7 \tPython program to find sum of elements in list \nList = [1, 2, 3,9]\nprint(\"The given list is:\")\nprint(List)\nlength=len(List)\nsumOfElements=0\nfor i in range(length):\n    sumOfElements=sumOfElements+List[i]\n\nprint(\"Sum of all the elements in the list is:\", sumOfElements)",
      "metadata": {
        "trusted": true
      },
      "outputs": [
        {
          "name": "stdout",
          "text": "The given list is:\n[1, 2, 3, 9]\nSum of all the elements in the list is: 15\n",
          "output_type": "stream"
        }
      ],
      "execution_count": 14
    },
    {
      "cell_type": "code",
      "source": "#8 Multiply all numbers in the list\ndef multiplyList(myList):\n\tresult = 1\n\tfor x in myList:\n\t\tresult = result * x\n\treturn result\nlist1 = [1, 2, 3]\nlist2 = [3, 2, 4]\nprint(multiplyList(list1))\nprint(multiplyList(list2))\n",
      "metadata": {
        "trusted": true
      },
      "outputs": [
        {
          "name": "stdout",
          "text": "6\n24\n",
          "output_type": "stream"
        }
      ],
      "execution_count": 15
    },
    {
      "cell_type": "code",
      "source": "#9  Program to find the smallest number in a list\ndef find_smallest(lst):\n    return min(lst)\nlist = [8, 5, 81, 1, 3]\nresult = find_smallest(list)\nprint(\"Smallest number in the list:\", result)",
      "metadata": {
        "trusted": true
      },
      "outputs": [
        {
          "name": "stdout",
          "text": "Smallest number in the list: 1\n",
          "output_type": "stream"
        }
      ],
      "execution_count": 16
    },
    {
      "cell_type": "code",
      "source": "#10 Python program to find largest number in a list\ndef find_largest(lst):\n    return max(lst)\nlist = [8, 5, 81, 1, 3]\nresult = find_largest(list)\nprint(\"largest number in the list:\", result)",
      "metadata": {
        "trusted": true
      },
      "outputs": [
        {
          "name": "stdout",
          "text": "largest number in the list: 81\n",
          "output_type": "stream"
        }
      ],
      "execution_count": 18
    },
    {
      "cell_type": "code",
      "source": "#11 Python program to find second largest number in a list\nlist1 = [10, 20, 4, 55, 99]\nmx = max(list1[0], list1[1]) \nsecondmax = min(list1[0], list1[1]) \nn = len(list1)\nfor i in range(2,n): \n\tif list1[i] > mx: \n\t\tsecondmax = mx\n\t\tmx = list1[i] \n\telif list1[i] > secondmax and \\\n\t\tmx != list1[i]: \n\t\tsecondmax = list1[i]\n\telif mx == secondmax and \\\n\t\tsecondmax != list1[i]:\n\t\tsecondmax = list1[i]\nprint(\"Second highest number is : \",\\\n\tstr(secondmax))\n",
      "metadata": {
        "trusted": true
      },
      "outputs": [
        {
          "name": "stdout",
          "text": "Second highest number is :  55\n",
          "output_type": "stream"
        }
      ],
      "execution_count": 19
    },
    {
      "cell_type": "code",
      "source": "#12 Python program to find N largest elements from a list\nmyList = [120, 30, 9, 17, 49, 250, 45, 300]\nprint(\"List = \",myList)\nn = 3\nmyList.sort()\nprint(\"Largest integers from the List = \",myList[-n:])",
      "metadata": {
        "trusted": true
      },
      "outputs": [
        {
          "name": "stdout",
          "text": "List =  [120, 30, 9, 17, 49, 250, 45, 300]\nLargest integers from the List =  [120, 250, 300]\n",
          "output_type": "stream"
        }
      ],
      "execution_count": 20
    },
    {
      "cell_type": "code",
      "source": "#13 Python program to print even numbers in a list\n\nlist1 = [10, 20, 4, 23, 66, 3]\nfor num in list1:\n\tif num % 2 == 0:\n\t\tprint(num, end=\" \")\n",
      "metadata": {
        "trusted": true
      },
      "outputs": [
        {
          "name": "stdout",
          "text": "10 20 4 66 ",
          "output_type": "stream"
        }
      ],
      "execution_count": 21
    },
    {
      "cell_type": "code",
      "source": "#14 # Python program to print odd Numbers in a List\n\nlist1 = [10, 21, 4, 45, 66, 93]\nfor num in list1:\n\tif num % 2 != 0:\n\t\tprint(num, end=\" \")\n",
      "metadata": {
        "trusted": true
      },
      "outputs": [
        {
          "name": "stdout",
          "text": "21 45 93 ",
          "output_type": "stream"
        }
      ],
      "execution_count": 22
    },
    {
      "cell_type": "code",
      "source": "#15 Python program to print all even numbers in a range\na = [1, 4, 9, 16, 25, 36, 49, 64, 81, 100]\n\nb = [i for i in a if i % 2 == 0]\n\nprint(\"Original List -->\", a,\"\\n\")\nprint(\"and the Even Numbers-->\", b)",
      "metadata": {
        "trusted": true
      },
      "outputs": [
        {
          "name": "stdout",
          "text": "Original List --> [1, 4, 9, 16, 25, 36, 49, 64, 81, 100] \n\nand the Even Numbers--> [4, 16, 36, 64, 100]\n",
          "output_type": "stream"
        }
      ],
      "execution_count": 23
    },
    {
      "cell_type": "code",
      "source": "#16 Python program to print all odd numbers in a range\na = [1, 4, 9, 16, 25, 36, 49, 64, 81, 100]\n\nb = [i for i in a if i % 2 != 0]\n\nprint(\"Original List -->\", a,\"\\n\")\nprint(\"and the odd Numbers-->\", b)",
      "metadata": {
        "trusted": true
      },
      "outputs": [
        {
          "name": "stdout",
          "text": "Original List --> [1, 4, 9, 16, 25, 36, 49, 64, 81, 100] \n\nand the odd Numbers--> [1, 9, 25, 49, 81]\n",
          "output_type": "stream"
        }
      ],
      "execution_count": 26
    },
    {
      "cell_type": "code",
      "source": "#17 Python program to print positive numbers in a list\ndef positive_numbers(lst):\n    numbers = [num for num in lst if num > 0]\n    return numbers\n\n\nmy_list = [-1, 2, -3, 4, -5]\nresult = positive_numbers(my_list)\nprint(\"Positive numbers in the list:\", result)\n\n",
      "metadata": {
        "trusted": true
      },
      "outputs": [
        {
          "name": "stdout",
          "text": "Positive numbers in the list: [2, 4]\n",
          "output_type": "stream"
        }
      ],
      "execution_count": 30
    },
    {
      "cell_type": "code",
      "source": "#18 ython program to print negative numbers in a list\ndef positive_numbers(lst):\n    numbers = [num for num in lst if num < 0]\n    return numbers\nmy_list = [-1, 2, -3, 4, -5]\nresult = positive_numbers(my_list)\nprint(\"Positive numbers in the list:\", result)\n\n\n",
      "metadata": {
        "trusted": true
      },
      "outputs": [
        {
          "name": "stdout",
          "text": "Positive numbers in the list: [-1, -3, -5]\n",
          "output_type": "stream"
        }
      ],
      "execution_count": 33
    },
    {
      "cell_type": "code",
      "source": "#19 Python program to print all positive numbers in a range\nstart_range = int(input(\"Enter the start of the range: \"))\nend_range = int(input(\"Enter the end of the range: \"))\nnumbers_list = list(range(start_range, end_range + 1))\npositive_numbers = [num for num in numbers_list if num > 0]\nprint(\"Positive numbers in the range:\", positive_numbers)",
      "metadata": {
        "trusted": true
      },
      "outputs": [],
      "execution_count": null
    },
    {
      "cell_type": "code",
      "source": "#20 Python program to print all negative numbers in a range\nstart_range = int(input(\"Enter the start of the range: \"))\nend_range = int(input(\"Enter the end of the range: \"))\nnumbers_list = list(range(start_range, end_range + 1))\nnegative_numbers = [num for num in numbers_list if num<0]\nprint(\"Negative numbers in the range:\", positive_numbers)\n\n\t",
      "metadata": {
        "trusted": true
      },
      "outputs": [],
      "execution_count": null
    },
    {
      "cell_type": "code",
      "source": "#21 Remove multiple elements from a list in Python\ndef remove_elements(lst, elements_to_remove):\n    return [element for element in lst if element not in elements_to_remove]\nmy_list = [1, 2, 3, 4, 5]\nelements_to_remove = [2, 4]\nresult = remove_elements(my_list, elements_to_remove)\nprint(\"List after removing elements:\", result)",
      "metadata": {
        "trusted": true
      },
      "outputs": [
        {
          "name": "stdout",
          "text": "List after removing elements: [1, 3, 5]\n",
          "output_type": "stream"
        }
      ],
      "execution_count": 34
    },
    {
      "cell_type": "code",
      "source": "#22 Python – Remove empty List from List\ndef remove_empty_lists(lst):\n    return [sublist for sublist in lst if sublist]\n\n# Example usage:\nmy_list = [3, [], 5, [], 7, []]\nresult = remove_empty_lists(my_list)\nprint(\"List after removing empty lists:\", result)\n",
      "metadata": {
        "trusted": true
      },
      "outputs": [
        {
          "name": "stdout",
          "text": "List after removing empty lists: [3, 5, 7]\n",
          "output_type": "stream"
        }
      ],
      "execution_count": 35
    },
    {
      "cell_type": "code",
      "source": "#23 Python | Cloning or Copying a list\ndef clone_list(lst):\n    return lst.copy()\nmy_list = [11, 22, 33, 44, 55]\ncloned_list = clone_list(my_list)\nprint(\"Original list:\", my_list)\nprint(\"Cloned list:\", cloned_list)\n",
      "metadata": {
        "trusted": true
      },
      "outputs": [
        {
          "name": "stdout",
          "text": "Original list: [11, 22, 33, 44, 55]\nCloned list: [11, 22, 33, 44, 55]\n",
          "output_type": "stream"
        }
      ],
      "execution_count": 36
    },
    {
      "cell_type": "code",
      "source": "#24 Python | Count occurrences of an element in a list\ndef count_occurrences(lst, element):\n    return lst.count(element)\n\n# Example usage:\nmy_list = [1, 2, 3, 4, 2, 5, 2]\nelement_to_count = int(input(\"Enter the element to count: \"))\nresult = count_occurrences(my_list, element_to_count)\nprint(f\"Occurrences of {element_to_count} in the list:\", result)\n\n\n",
      "metadata": {
        "trusted": true
      },
      "outputs": [],
      "execution_count": null
    },
    {
      "cell_type": "code",
      "source": "#25 Python | Remove empty tuples from a list\ndef remove_empty_tuples(lst):\n    return [tup for tup in lst if tup]\n\n# Example usage:\nmy_list = [(1, 2), (), (3, 4), (), (5, 6), ()]\nresult = remove_empty_tuples(my_list)\nprint(\"List after removing empty tuples:\", result)",
      "metadata": {
        "trusted": true
      },
      "outputs": [],
      "execution_count": null
    },
    {
      "cell_type": "code",
      "source": "#26 Python | Program to print duplicates from a list of integers\ndef print_duplicates(lst):\n    seen = set()\n    duplicates = set(x for x in lst if x in seen or seen.add(x))\n    return list(duplicates)\nmy_list = [1, 2, 3, 4, 2, 5, 2, 6, 4]\nresult = print_duplicates(my_list)\nprint(\"Duplicate elements in the list:\", result)",
      "metadata": {
        "trusted": true
      },
      "outputs": [],
      "execution_count": null
    },
    {
      "cell_type": "code",
      "source": "#27 Python program to find Cumulative sum of a list\nnumbers = [1, 2, 3, 4, 5]\ncumulative_sum = []\nsum = 0\nfor i in numbers:\n    sum += i\n    cumulative_sum.append(sum)\nprint(cumulative_sum)",
      "metadata": {
        "trusted": true
      },
      "outputs": [],
      "execution_count": null
    },
    {
      "cell_type": "code",
      "source": "#28 Python | Sum of number digits in List\n\ntest_list = [12, 67, 98, 34]\n\n\nprint(\"The original list is : \" + str(test_list))\nres = []\nfor ele in test_list:\n\tsum = 0\n\tfor digit in str(ele):\n\t\tsum += int(digit)\n\tres.append(sum)\n\tprint (\"List Integer Summation : \" + str(res))\n    \n",
      "metadata": {
        "trusted": true
      },
      "outputs": [],
      "execution_count": null
    },
    {
      "cell_type": "code",
      "source": "#29 Break a list into chunks of size N in Python\ndef break_into_chunks(lst, chunk_size):\n    return [lst[i:i + chunk_size] for i in range(0, len(lst), chunk_size)]\n\n# Example usage:\nmy_list = [1, 2, 3, 4, 5, 6, 7, 8, 9, 10]\nchunk_size = int(input(\"Enter the size of each chunk: \"))\nresult = break_into_chunks(my_list, chunk_size)\nprint(\"List after breaking into chunks:\", result)",
      "metadata": {
        "trusted": true
      },
      "outputs": [],
      "execution_count": null
    },
    {
      "cell_type": "code",
      "source": "#30 Python | Sort the values of first list using second list\n\nPython | Sort the values of the first list using the second list\ndef sort_using_second_list(list1, list2):\n    sorted_list = [x for _, x in sorted(zip(list2, list1))]\n    return sorted_list\n\n# Example usage:\nlist1 = [1, 2, 3, 4, 5]\nlist2 = [5, 4, 3, 2, 1]\nresult = sort_using_second_list(list1, list2)\nprint(\"List1 sorted using List2:\", result)",
      "metadata": {
        "trusted": true
      },
      "outputs": [],
      "execution_count": null
    },
    {
      "cell_type": "code",
      "source": "",
      "metadata": {
        "trusted": true
      },
      "outputs": [],
      "execution_count": null
    }
  ]
}