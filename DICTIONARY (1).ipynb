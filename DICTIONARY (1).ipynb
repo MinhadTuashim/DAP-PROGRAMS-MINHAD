{
  "metadata": {
    "kernelspec": {
      "name": "python",
      "display_name": "Python (Pyodide)",
      "language": "python"
    },
    "language_info": {
      "codemirror_mode": {
        "name": "python",
        "version": 3
      },
      "file_extension": ".py",
      "mimetype": "text/x-python",
      "name": "python",
      "nbconvert_exporter": "python",
      "pygments_lexer": "ipython3",
      "version": "3.8"
    }
  },
  "nbformat_minor": 4,
  "nbformat": 4,
  "cells": [
    {
      "cell_type": "code",
      "source": "Dictionary Programs\n",
      "metadata": {
        "trusted": true
      },
      "outputs": [],
      "execution_count": null
    },
    {
      "cell_type": "code",
      "source": "#1 Python – Extract Unique values dictionary values\ndef extract_unique_values(dictionary):\n    return set(value for values in dictionary.values() for value in values)\n\n\nsample_dict = {'A': [1, 2, 3], 'B': [2, 4, 6], 'C': [3, 6, 9]}\nresult = extract_unique_values(sample_dict)\nprint(\"Unique values in dictionary:\", result)\n",
      "metadata": {
        "trusted": true
      },
      "outputs": [
        {
          "name": "stdout",
          "text": "Unique values in dictionary: {1, 2, 3, 4, 6, 9}\n",
          "output_type": "stream"
        }
      ],
      "execution_count": 1
    },
    {
      "cell_type": "code",
      "source": "#2 Python program to find the sum of all items in a dictionary\ndef sum_of_items(dictionary):\n    return sum(dictionary.values())\n\nsample_dict = {'A': 10, 'B': 20, 'C': 30}\nresult = sum_of_items(sample_dict)\nprint(\"Sum of all items in dictionary:\", result)\n\n     ",
      "metadata": {
        "trusted": true
      },
      "outputs": [
        {
          "name": "stdout",
          "text": "Sum of all items in dictionary: 60\n",
          "output_type": "stream"
        }
      ],
      "execution_count": 2
    },
    {
      "cell_type": "code",
      "source": "# 3.\tPython | Ways to remove a key from dictionary\ndef remove_key(dictionary, key_to_remove):\n    new_dict = {key: value for key, value in dictionary.items() if key != key_to_remove}\n    return new_dict\n\n# Example usage:\nsample_dict = {'A': 10, 'B': 20, 'C': 30}\nkey_to_remove = 'B'\nresult = remove_key(sample_dict, key_to_remove)\nprint(\"Dictionary after removing key:\", result)\n",
      "metadata": {
        "trusted": true
      },
      "outputs": [
        {
          "name": "stdout",
          "text": "Dictionary after removing key: {'A': 10, 'C': 30}\n",
          "output_type": "stream"
        }
      ],
      "execution_count": 5
    },
    {
      "cell_type": "code",
      "source": "# 4.\tWays to sort list of dictionaries by values in Python – Using itemgetter\nfrom operator import itemgetter\n\ndef sort_dict_by_values(dictionary):\n    sorted_dict = dict(sorted(dictionary.items(), key=itemgetter(1)))\n    return sorted_dict\n\n# Example usage:\nsample_dict = {'A': 30, 'B': 10, 'C': 20}\nresult = sort_dict_by_values(sample_dict)\nprint(\"Dictionary sorted by values:\", result)\n",
      "metadata": {
        "trusted": true
      },
      "outputs": [
        {
          "name": "stdout",
          "text": "Dictionary sorted by values: {'B': 10, 'C': 20, 'A': 30}\n",
          "output_type": "stream"
        }
      ],
      "execution_count": 6
    },
    {
      "cell_type": "code",
      "source": "# 5.\tWays to sort list of dictionaries by values in Python – Using lambda function\ndef sort_dict_by_values_lambda(dictionary):\n    sorted_dict = dict(sorted(dictionary.items(), key=lambda item: item[1]))\n    return sorted_dict\n\n# Example usage:\nsample_dict = {'A': 30, 'B': 10, 'C': 20}\nresult = sort_dict_by_values_lambda(sample_dict)\nprint(\"Dictionary sorted by values (using lambda):\", result)\n\n     ",
      "metadata": {
        "trusted": true
      },
      "outputs": [
        {
          "name": "stdout",
          "text": "Dictionary sorted by values (using lambda): {'B': 10, 'C': 20, 'A': 30}\n",
          "output_type": "stream"
        }
      ],
      "execution_count": 7
    },
    {
      "cell_type": "code",
      "source": "# 6.\tPython | Merging two Dictionaries\ndef merge_two_dicts(dict1, dict2):\n    merged_dict = {**dict1, **dict2}\n    return merged_dict\n\n# Example usage:\ndict1 = {'A': 10, 'B': 20}\ndict2 = {'C': 30, 'D': 40}\nresult = merge_two_dicts(dict1, dict2)\nprint(\"Merged dictionary:\", result)\n",
      "metadata": {
        "trusted": true
      },
      "outputs": [
        {
          "name": "stdout",
          "text": "Merged dictionary: {'A': 10, 'B': 20, 'C': 30, 'D': 40}\n",
          "output_type": "stream"
        }
      ],
      "execution_count": 8
    },
    {
      "cell_type": "code",
      "source": "# 7.\tPython – Convert key-values list to flat dictionary\ndef convert_to_flat_dict(key_value_list):\n    flat_dict = dict(key_value_list)\n    return flat_dict\n\n# Example usage:\nkey_value_list = [('A', 10), ('B', 20), ('C', 30)]\nresult = convert_to_flat_dict(key_value_list)\nprint(\"Flat dictionary from key-values list:\", result)\n",
      "metadata": {
        "trusted": true
      },
      "outputs": [
        {
          "name": "stdout",
          "text": "Flat dictionary from key-values list: {'A': 10, 'B': 20, 'C': 30}\n",
          "output_type": "stream"
        }
      ],
      "execution_count": 9
    },
    {
      "cell_type": "code",
      "source": "# 9.\tPython | Check order of character in string using OrderedDict( )\nfrom collections import OrderedDict\n\ndef check_order(s, pattern):\n    od = OrderedDict.fromkeys(s)\n    return ''.join(od.keys()).find(pattern) != -1\n\n# Example usage:\nresult = check_order(\"Python is amazing\", \"is\")\nprint(\"Does the string follow the order:\", result)",
      "metadata": {
        "trusted": true
      },
      "outputs": [],
      "execution_count": null
    },
    {
      "cell_type": "code",
      "source": "# 10.\tDictionary and counter in Python to find winner of election\nfrom collections import Counter\n\ndef election_winner(votes):\n    counter = Counter(votes)\n    max_votes = max(counter.values())\n    winners = [candidate for candidate, votes in counter.items() if votes == max_votes]\n    return winners\n\n# Example usage:\nresult = election_winner(['A', 'B', 'A', 'C', 'B', 'A'])\nprint(\"Winner(s) of the election:\", result)",
      "metadata": {
        "trusted": true
      },
      "outputs": [
        {
          "name": "stdout",
          "text": "Winner(s) of the election: ['A']\n",
          "output_type": "stream"
        }
      ],
      "execution_count": 11
    },
    {
      "cell_type": "code",
      "source": "# 11.\tPython – Append Dictionary Keys and Values ( In order ) in dictionary\ndef append_keys_and_values(dict1, dict2):\n    result_dict = {}\n    for key, value in zip(dict1.keys(), dict2.values()):\n        result_dict[key] = value\n    return result_dict\n\n# Example usage:\ndict1 = {'A': 10, 'B': 20, 'C': 30}\ndict2 = {'X': 40, 'Y': 50, 'Z': 60}\nresult = append_keys_and_values(dict1, dict2)\nprint(\"Dictionary after appending keys and values:\", result)\n\n     ",
      "metadata": {
        "trusted": true
      },
      "outputs": [
        {
          "name": "stdout",
          "text": "Dictionary after appending keys and values: {'A': 40, 'B': 50, 'C': 60}\n",
          "output_type": "stream"
        }
      ],
      "execution_count": 12
    },
    {
      "cell_type": "code",
      "source": "\n# 12.\tPython | Sort Python Dictionaries by Key or Value\ndef sort_dict_by_key(dictionary):\n    return dict(sorted(dictionary.items()))\n\ndef sort_dict_by_value(dictionary):\n    return dict(sorted(dictionary.items(), key=lambda item: item[1]))\n\n# Example usage:\nsample_dict = {'B': 20, 'C': 10, 'A': 30}\nresult_by_key = sort_dict_by_key(sample_dict)\nresult_by_value = sort_dict_by_value(sample_dict)\nprint(\"Dictionary sorted by key:\", result_by_key)\nprint(\"Dictionary sorted by value:\", result_by_value)",
      "metadata": {
        "trusted": true
      },
      "outputs": [
        {
          "name": "stdout",
          "text": "Dictionary sorted by key: {'A': 30, 'B': 20, 'C': 10}\nDictionary sorted by value: {'C': 10, 'B': 20, 'A': 30}\n",
          "output_type": "stream"
        }
      ],
      "execution_count": 13
    },
    {
      "cell_type": "code",
      "source": "# 13.\tPython – Sort Dictionary key and values List\ndef sort_dict_keys_and_values(dictionary):\n    sorted_keys = sorted(dictionary.keys())\n    sorted_values = [dictionary[key] for key in sorted_keys]\n    return sorted_keys, sorted_values\n\n# Example usage:\nsample_dict = {'B': 20, 'C': 10, 'A': 30}\nresult_keys, result_values = sort_dict_keys_and_values(sample_dict)\nprint(\"Sorted keys:\", result_keys)\nprint(\"Corresponding values:\", result_values)\n",
      "metadata": {
        "trusted": true
      },
      "outputs": [
        {
          "name": "stdout",
          "text": "Sorted keys: ['A', 'B', 'C']\nCorresponding values: [30, 20, 10]\n",
          "output_type": "stream"
        }
      ],
      "execution_count": 14
    },
    {
      "cell_type": "code",
      "source": "# 14.\tHandling missing keys in Python dictionaries\ndef handle_missing_keys(dictionary, key, default_value):\n    return dictionary.get(key, default_value)\n\n# Example usage:\nsample_dict = {'A': 10, 'B': 20, 'C': 30}\nkey_to_check = 'D'\nresult = handle_missing_keys(sample_dict, key_to_check, 0)\nprint(f\"Value for key '{key_to_check}':\", result)",
      "metadata": {
        "trusted": true
      },
      "outputs": [
        {
          "name": "stdout",
          "text": "Value for key 'D': 0\n",
          "output_type": "stream"
        }
      ],
      "execution_count": 15
    },
    {
      "cell_type": "code",
      "source": "# 15.\tPython dictionary with keys having multiple inputs\ndef create_dict_with_multiple_inputs(keys, values):\n    return dict(zip(keys, values))\n\n# Example usage:\nkeys_list = ['Name', 'Age', 'Country']\nvalues_list = ['John', 25, 'USA']\nresult = create_dict_with_multiple_inputs(keys_list, values_list)\nprint(\"Dictionary with multiple inputs:\", result)\n",
      "metadata": {
        "trusted": true
      },
      "outputs": [
        {
          "name": "stdout",
          "text": "Dictionary with multiple inputs: {'Name': 'John', 'Age': 25, 'Country': 'USA'}\n",
          "output_type": "stream"
        }
      ],
      "execution_count": 16
    },
    {
      "cell_type": "code",
      "source": "# 16.\tPrint anagrams together in Python using List and Dictionary\ndef group_anagrams(words):\n    anagram_dict = {}\n    for word in words:\n        sorted_word = ''.join(sorted(word))\n        anagram_dict.setdefault(sorted_word, []).append(word)\n    return list(anagram_dict.values())\n\n# Example usage:\nword_list = ['listen', 'silent', 'enlist', 'hello', 'world']\nresult = group_anagrams(word_list)\nprint(\"Anagrams grouped together:\", result)\n",
      "metadata": {
        "trusted": true
      },
      "outputs": [
        {
          "name": "stdout",
          "text": "Anagrams grouped together: [['listen', 'silent', 'enlist'], ['hello'], ['world']]\n",
          "output_type": "stream"
        }
      ],
      "execution_count": 17
    },
    {
      "cell_type": "code",
      "source": "# 17.\tK’th Non-repeating Character in Python using List Comprehension and OrderedDict\nfrom collections import OrderedDict\n\ndef kth_non_repeating_character(s, k):\n    char_count = OrderedDict.fromkeys(s, 0)\n    for char in s:\n        char_count[char] += 1\n    non_repeating_chars = [char for char, count in char_count.items() if count == 1]\n    return non_repeating_chars[k-1] if k <= len(non_repeating_chars) else None\n\n# Example usage:\nresult = kth_non_repeating_character(\"programming\", 2)\nprint(\"2nd non-repeating character:\", result)",
      "metadata": {
        "trusted": true
      },
      "outputs": [
        {
          "name": "stdout",
          "text": "2nd non-repeating character: o\n",
          "output_type": "stream"
        }
      ],
      "execution_count": 18
    },
    {
      "cell_type": "code",
      "source": "# 18.\tCheck if binary representations of two numbers are anagram\ndef are_binary_anagrams(num1, num2):\n    binary_str1 = bin(num1)[2:]\n    binary_str2 = bin(num2)[2:]\n    return sorted(binary_str1) == sorted(binary_str2)\n\n# Example usage:\nresult = are_binary_anagrams(9, 6)\nprint(\"Are the binary representations anagrams:\", result)\n\n     ",
      "metadata": {
        "trusted": true
      },
      "outputs": [
        {
          "name": "stdout",
          "text": "Are the binary representations anagrams: False\n",
          "output_type": "stream"
        }
      ],
      "execution_count": 19
    },
    {
      "cell_type": "code",
      "source": "# 19.\tPython Counter to find the size of largest subset of anagram words\nfrom collections import Counter\n\ndef largest_anagram_subset(words):\n    anagram_counter = Counter(''.join(sorted(word)) for word in words)\n    return max(anagram_counter.values(), default=0)\n\n# Example usage:\nword_list = ['listen', 'silent', 'enlist', 'hello', 'world']\nresult = largest_anagram_subset(word_list)\nprint(\"Size of the largest anagram subset:\", result)",
      "metadata": {
        "trusted": true
      },
      "outputs": [
        {
          "name": "stdout",
          "text": "Size of the largest anagram subset: 3\n",
          "output_type": "stream"
        }
      ],
      "execution_count": 20
    },
    {
      "cell_type": "code",
      "source": "# 20.\tPython | Remove all duplicates words from a given sentence\ndef remove_duplicate_words(sentence):\n    words = sentence.split()\n    unique_words = list(set(words))\n    return ' '.join(unique_words)\n\n# Example usage:\nresult = remove_duplicate_words(\"Python is great and Python is versatile\")\nprint(\"Sentence after removing duplicate words:\", result)\n\n",
      "metadata": {
        "trusted": true
      },
      "outputs": [
        {
          "name": "stdout",
          "text": "Sentence after removing duplicate words: versatile Python great and is\n",
          "output_type": "stream"
        }
      ],
      "execution_count": 21
    },
    {
      "cell_type": "code",
      "source": "# 21.\tPython Dictionary to find mirror characters in a string\ndef find_mirror_characters(s):\n    mirror_dict = {'p': 'q', 'q': 'p', 'b': 'd', 'd': 'b'}\n    mirrored_chars = [mirror_dict[char] for char in s[::-1] if char in mirror_dict]\n    return ''.join(mirrored_chars)\n\n# Example usage:\nresult = find_mirror_characters(\"pqbd\")\nprint(\"Mirror characters in the string:\", result)",
      "metadata": {
        "trusted": true
      },
      "outputs": [
        {
          "name": "stdout",
          "text": "Mirror characters in the string: bdpq\n",
          "output_type": "stream"
        }
      ],
      "execution_count": 22
    },
    {
      "cell_type": "code",
      "source": "# 22.\tCounting the frequencies in a list using dictionary in Python\ndef count_frequencies(input_list):\n    frequency_dict = {}\n    for item in input_list:\n        frequency_dict[item] = frequency_dict.get(item, 0) + 1\n    return frequency_dict\n\n# Example usage:\ninput_list = [1, 2, 2, 3, 1, 4, 2, 5, 3]\nresult = count_frequencies(input_list)\nprint(\"Frequencies in the list:\", result)\n\n     ",
      "metadata": {
        "trusted": true
      },
      "outputs": [],
      "execution_count": null
    },
    {
      "cell_type": "code",
      "source": "# 23.\tPython | Convert a list of Tuples into Dictionary\ndef convert_tuples_to_dict(tuple_list):\n    result_dict = dict(tuple_list)\n    return result_dict\n\n# Example usage:\ntuple_list = [('A', 10), ('B', 20), ('C', 30)]\nresult = convert_tuples_to_dict(tuple_list)\nprint(\"Dictionary from list of tuples:\", result)\n\n     ",
      "metadata": {
        "trusted": true
      },
      "outputs": [
        {
          "name": "stdout",
          "text": "Dictionary from list of tuples: {'A': 10, 'B': 20, 'C': 30}\n",
          "output_type": "stream"
        }
      ],
      "execution_count": 23
    },
    {
      "cell_type": "code",
      "source": "# 24.\tPython counter and dictionary intersection example (Make a string using deletion and rearrangement)\nfrom collections import Counter\n\ndef can_make_string_from_another(s1, s2):\n    counter_s1 = Counter(s1)\n    counter_s2 = Counter(s2)\n    return all(counter_s2[char] >= count for char, count in counter_s1.items())\n\n# Example usage:\nresult = can_make_string_from_another(\"xyz\", \"xyyyyz\")\nprint(\"Can make the string using deletion and rearrangement:\", result)",
      "metadata": {
        "trusted": true
      },
      "outputs": [],
      "execution_count": null
    },
    {
      "cell_type": "code",
      "source": "# 25.\tPython dictionary, set and counter to check if frequencies can become same\nfrom collections import Counter\n\ndef can_frequencies_become_same(s):\n    char_count = Counter(s)\n    values_set = set(char_count.values())\n    return len(values_set) == 1 or (len(values_set) == 2 and 1 in values_set)\n\n# Example usage:\nresult = can_frequencies_become_same(\"xyyyz\")\nprint(\"Can frequencies become the same:\", result)",
      "metadata": {
        "trusted": true
      },
      "outputs": [
        {
          "name": "stdout",
          "text": "Can frequencies become the same: True\n",
          "output_type": "stream"
        }
      ],
      "execution_count": 24
    },
    {
      "cell_type": "code",
      "source": "# 27.\tPossible Words using given characters in Python\nfrom itertools import permutations\n\ndef possible_words_using_characters(chars):\n    word_permutations = [''.join(perm) for perm in permutations(chars)]\n    return word_permutations\n\n# Example usage:\ncharacters = ['a', 'b', 'c']\nresult = possible_words_using_characters(characters)\nprint(\"Possible words using given characters:\", result)",
      "metadata": {
        "trusted": true
      },
      "outputs": [],
      "execution_count": null
    },
    {
      "cell_type": "code",
      "source": "# 28.\tPython – Keys associated with Values in Dictionary\ndef keys_associated_with_values(dictionary, target_value):\n    keys_list = [key for key, value in dictionary.items() if value == target_value]\n    return keys_list\n\n# Example usage:\nsample_dict = {'A': 10, 'B': 20, 'C': 30, 'D': 20}\ntarget_value = 20\nresult = keys_associated_with_values(sample_dict, target_value)\nprint(f\"Keys associated with value {target_value}:\", result)\n",
      "metadata": {
        "trusted": true
      },
      "outputs": [
        {
          "name": "stdout",
          "text": "Keys associated with value 20: ['B', 'D']\n",
          "output_type": "stream"
        }
      ],
      "execution_count": 26
    },
    {
      "cell_type": "code",
      "source": "",
      "metadata": {
        "trusted": true
      },
      "outputs": [],
      "execution_count": null
    },
    {
      "cell_type": "code",
      "source": "",
      "metadata": {
        "trusted": true
      },
      "outputs": [],
      "execution_count": null
    }
  ]
}