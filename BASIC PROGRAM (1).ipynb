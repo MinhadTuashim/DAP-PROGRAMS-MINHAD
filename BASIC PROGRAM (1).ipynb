{
  "metadata": {
    "kernelspec": {
      "name": "python",
      "display_name": "Python (Pyodide)",
      "language": "python"
    },
    "language_info": {
      "codemirror_mode": {
        "name": "python",
        "version": 3
      },
      "file_extension": ".py",
      "mimetype": "text/x-python",
      "name": "python",
      "nbconvert_exporter": "python",
      "pygments_lexer": "ipython3",
      "version": "3.8"
    }
  },
  "nbformat_minor": 4,
  "nbformat": 4,
  "cells": [
    {
      "cell_type": "code",
      "source": "#1 Add two numbers\nx=2\ny=8\nprint(x+y)\n",
      "metadata": {
        "trusted": true
      },
      "outputs": [
        {
          "name": "stdout",
          "text": "10\n",
          "output_type": "stream"
        }
      ],
      "execution_count": 1
    },
    {
      "cell_type": "code",
      "source": "#2 max of two number\nn1=5\nn2=8\nmaximum=max(n1,n2)\nprint(\"maximum of the two number is:\",maximum)\n\n",
      "metadata": {
        "trusted": true
      },
      "outputs": [
        {
          "name": "stdout",
          "text": "maximum of the two number is: 8\n",
          "output_type": "stream"
        }
      ],
      "execution_count": 2
    },
    {
      "cell_type": "code",
      "source": "#3 Factorial of a number\n\nn=4\nfact=1\nfor i in range(1,n+1):\n\n    fact=fact*i\nprint(\"Factorial of\",n,\"is:\",fact)\n\n",
      "metadata": {
        "trusted": true
      },
      "outputs": [
        {
          "name": "stdout",
          "text": "Factorial of 4 is: 24\n",
          "output_type": "stream"
        }
      ],
      "execution_count": 3
    },
    {
      "cell_type": "code",
      "source": "#4 Simple interest\np=1000\nr=50\nt=2\nSI=(p*r*t)/100\nprint(\"Simple interest\",SI",
      "metadata": {
        "trusted": true
      },
      "outputs": [
        {
          "name": "stdout",
          "text": "Simple interest 1000.0\n",
          "output_type": "stream"
        }
      ],
      "execution_count": 5
    },
    {
      "cell_type": "code",
      "source": "#5 Compound interest\np=float(input(\"Enter the principal amount:\"))\nr=float(input(\"Enter the rate :\"))\nt=float(input(\"Enter the time:\"))\nCI=p*((1+r/100)**t)-p\nprint(\"Compound interest is :\",CI)",
      "metadata": {
        "trusted": true
      },
      "outputs": [],
      "execution_count": null
    },
    {
      "cell_type": "code",
      "source": "#6 Check armstrong number\nn=int(input(\"Enter a number:\"))\nsum=0\ntemp=n\nwhile temp>0:\n    digit=temp%10\n    sum=sum+digit**3\n    temp=temp//10\nif n==sum:\n    print(n,\"Is Armstrong number\")\nelse:\n    print(n,\"Not Armstrong number\")",
      "metadata": {
        "trusted": true
      },
      "outputs": [],
      "execution_count": null
    },
    {
      "cell_type": "code",
      "source": "#7 area of a circle\nr=float(input(\"Eter the radius of the circle:\"))\narea=3.14*r**2\nprint(\"The area of the circle is :\",area)\n",
      "metadata": {
        "trusted": true
      },
      "outputs": [],
      "execution_count": null
    },
    {
      "cell_type": "code",
      "source": "#8 All prime numbers in an interval\na=int(input(\"enter the number:\"))\nb=int(input(\"enter the number:\"))\nprint(\"Prime numbers in the range are:\")\nfor num in range(a,b+1):\n    if num>1:\n        for i in range(2,num):\n            if(num%i)==0:\n                 break\n        else:\n            print(num)",
      "metadata": {
        "trusted": true
      },
      "outputs": [],
      "execution_count": null
    },
    {
      "cell_type": "code",
      "source": "#9 NUMBER IS prime or not\nnum=int(input(\"Enter a number:\"))\nif(num>1):\n    for i in range(2,num):\n        if(num%2)==0:\n            print(\"Not a prime no.\")\n            break\n    else:\n         print(num,\"Is a Prime number\")\nelse:\n    print(\"not a prime number\")",
      "metadata": {
        "trusted": true
      },
      "outputs": [],
      "execution_count": null
    },
    {
      "cell_type": "code",
      "source": "#10 Python Program for n-th Fibonacci number\n\ndef Fibonacci(n):\n\tif n<= 0:\n\t\tprint(\"Incorrect input\")\n\t# First Fibonacci number is 0\n\telif n == 1:\n\t\treturn 0\n\t# Second Fibonacci number is 1\n\telif n == 2:\n\t\treturn 1\n\telse:\n\t\treturn Fibonacci(n-1)+Fibonacci(n-2)\nprint(Fibonacci(10))\n",
      "metadata": {
        "trusted": true
      },
      "outputs": [],
      "execution_count": null
    },
    {
      "cell_type": "code",
      "source": "#11 Python Program for How to check if a given number is Fibonacci number?\nn=int(input(\"Enter the number: \"))\nc=0\na=1\nb=1\nif n==0 or n==1:\n    print(\"Yes\")\nelse:\n    while c<n:\n        c=a+b\n        b=a\n        a=c\n    if c==n:\n        print(\"Yes\")\n    else:\n        print(\"No\")\n\n",
      "metadata": {
        "trusted": true
      },
      "outputs": [],
      "execution_count": null
    },
    {
      "cell_type": "code",
      "source": "#12 Python Program for n\\’th multiple of a number in Fibonacci Series\ndef findPosition(k, n):\n\tf1 = 0\n\tf2 = 1\n\ti =2; \n\twhile i!=0:\n\t\tf3 = f1 + f2;\n\t\tf1 = f2;\n\t\tf2 = f3;\n\n\t\tif f2%k == 0:\n\t\t\treturn n*i\n\n\t\ti+=1\n\t\t\n\treturn\nn = 5;\nk = 4;\nprint(\"Position of n\\'th multiple of k in \"\"Fibonacci Series is\", findPosition(k,n));",
      "metadata": {
        "trusted": true
      },
      "outputs": [],
      "execution_count": null
    },
    {
      "cell_type": "code",
      "source": "#13 Program to print ASCII Value of a character\n\nch = input(\"Enter character: \")\nasc = ord(ch)\nprint(\"ASCII code of\",ch,\"is:\", asc)\n",
      "metadata": {
        "trusted": true
      },
      "outputs": [],
      "execution_count": null
    },
    {
      "cell_type": "code",
      "source": "#14 Python program for sum of the square of first N natural numbers\nN = int(input(\"Enter value of N: \"))\nsumVal = 0\nfor i in range(1, N+1):\n    sumVal += (i*i)\nprint(\"Sum of squares = \", sumVal)\n",
      "metadata": {
        "trusted": true
      },
      "outputs": [],
      "execution_count": null
    },
    {
      "cell_type": "code",
      "source": "#15 Python program for sum of the cubes of first N natural numbers\nN = int(input(\"Enter value of N: \"))\nsumVal = 0\nfor i in range(1, N+1):\n    sumVal += (i*i*i)\nprint(\"Sum of cubes = \", sumVal)",
      "metadata": {
        "trusted": true
      },
      "outputs": [],
      "execution_count": null
    }
  ]
}