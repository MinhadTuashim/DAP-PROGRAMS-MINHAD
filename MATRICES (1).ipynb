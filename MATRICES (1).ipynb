{
  "metadata": {
    "kernelspec": {
      "name": "python",
      "display_name": "Python (Pyodide)",
      "language": "python"
    },
    "language_info": {
      "codemirror_mode": {
        "name": "python",
        "version": 3
      },
      "file_extension": ".py",
      "mimetype": "text/x-python",
      "name": "python",
      "nbconvert_exporter": "python",
      "pygments_lexer": "ipython3",
      "version": "3.8"
    }
  },
  "nbformat_minor": 4,
  "nbformat": 4,
  "cells": [
    {
      "cell_type": "code",
      "source": "#MATRIX PROGRAMS",
      "metadata": {
        "trusted": true
      },
      "outputs": [],
      "execution_count": 1
    },
    {
      "cell_type": "code",
      "source": "#1 ADD TWO MATRICES\n# Program to add two matrices using nested loop\n\nX = [[12,7,3],\n    [4 ,5,6],\n    [7 ,8,9]]\n\nY = [[5,8,1],\n    [6,7,3],\n    [4,5,9]]\n\nresult = [[0,0,0],\n         [0,0,0],\n         [0,0,0]]\n\n# iterate through rows\nfor i in range(len(X)):\n   # iterate through columns\n   for j in range(len(X[0])):\n       result[i][j] = X[i][j] + Y[i][j]\n\nfor r in result:\n   print(r)\n",
      "metadata": {
        "trusted": true
      },
      "outputs": [
        {
          "name": "stdout",
          "text": "[17, 15, 4]\n[10, 12, 9]\n[11, 13, 18]\n",
          "output_type": "stream"
        }
      ],
      "execution_count": 2
    },
    {
      "cell_type": "code",
      "source": "#2 Program to multiply two matrices \n\n# 3x3 matrix\nX = [[12,7,3],\n    [4 ,5,6],\n    [7 ,8,9]]\n# 3x4 matrix\nY = [[5,8,1,2],\n    [6,7,3,0],\n    [4,5,9,1]]\n# result is 3x4\nresult = [[0,0,0,0],\n         [0,0,0,0],\n         [0,0,0,0]]\n\n# iterate through rows of X\nfor i in range(len(X)):\n   # iterate through columns of Y\n   for j in range(len(Y[0])):\n       # iterate through rows of Y\n       for k in range(len(Y)):\n           result[i][j] += X[i][k] * Y[k][j]\n\nfor r in result:\n   print(r)\n",
      "metadata": {
        "trusted": true
      },
      "outputs": [
        {
          "name": "stdout",
          "text": "[114, 160, 60, 27]\n[74, 97, 73, 14]\n[119, 157, 112, 23]\n",
          "output_type": "stream"
        }
      ],
      "execution_count": 3
    },
    {
      "cell_type": "code",
      "source": "#3 Python program for Matrix Product\ndef prod(val):\n\tres = 1\n\tfor ele in val:\n\t\tres *= ele\n\treturn res\ntest_list = [[1, 4, 5], [7, 3], [4], [46, 7, 3]]\nprint(\"The original list : \" + str(test_list))\nres = prod([ele for sub in test_list for ele in sub])\nprint(\"The total element product in lists is : \" + str(res))\n",
      "metadata": {
        "trusted": true
      },
      "outputs": [
        {
          "name": "stdout",
          "text": "The original list : [[1, 4, 5], [7, 3], [4], [46, 7, 3]]\nThe total element product in lists is : 1622880\n",
          "output_type": "stream"
        }
      ],
      "execution_count": 4
    },
    {
      "cell_type": "code",
      "source": "#4 Adding and Subtracting Matrices in Python\nX = [[12,7,3],\n    [4 ,5,6],\n    [7 ,8,9]]\n\nY = [[5,8,1],\n    [6,7,3],\n    [4,5,9]]\n\nresult = [[0,0,0],\n         [0,0,0],\n         [0,0,0]]\n\n# iterate through rows\nfor i in range(len(X)):\n   # iterate through columns\n   for j in range(len(X[0])):\n       result[i][j] = X[i][j] - Y[i][j]\n\nfor r in result:\n   print(r)",
      "metadata": {
        "trusted": true
      },
      "outputs": [
        {
          "name": "stdout",
          "text": "[7, -1, 2]\n[-2, -2, 3]\n[3, 3, 0]\n",
          "output_type": "stream"
        }
      ],
      "execution_count": 5
    },
    {
      "cell_type": "code",
      "source": "#5 Transpose a matrix in Single line in Python\nm = [[1, 2], [3, 4], [5, 6]]\nfor row in m:\n\tprint(row)\nrez = [[m[j][i] for j in range(len(m))] for i in range(len(m[0]))]\nprint(\"\\n\")\nfor row in rez:\n\tprint(row)\n",
      "metadata": {
        "trusted": true
      },
      "outputs": [
        {
          "name": "stdout",
          "text": "[1, 2]\n[3, 4]\n[5, 6]\n\n\n[1, 3, 5]\n[2, 4, 6]\n",
          "output_type": "stream"
        }
      ],
      "execution_count": 6
    },
    {
      "cell_type": "code",
      "source": "#6 Python | Matrix creation of n*n\nN = 4\nprint(\"The dimension : \" + str(N))\nres = [list(range(1 + N * i, 1 + N * (i + 1)))\n\t\t\t\t\t\t\tfor i in range(N)]\nprint(\"The created matrix of N * N: \" + str(res))\n",
      "metadata": {
        "trusted": true
      },
      "outputs": [
        {
          "name": "stdout",
          "text": "The dimension : 4\nThe created matrix of N * N: [[1, 2, 3, 4], [5, 6, 7, 8], [9, 10, 11, 12], [13, 14, 15, 16]]\n",
          "output_type": "stream"
        }
      ],
      "execution_count": 7
    },
    {
      "cell_type": "code",
      "source": "#7 Python | Get Kth Column of Matrix\ntest_list = [[4, 5, 6], [8, 1, 10], [7, 12, 5]]\nprint(\"The original list is : \" + str(test_list))\nK = 2\nres = [sub[K] for sub in test_list]\nprint(\"The Kth column of matrix is : \" + str(res))\n",
      "metadata": {
        "trusted": true
      },
      "outputs": [
        {
          "name": "stdout",
          "text": "The original list is : [[4, 5, 6], [8, 1, 10], [7, 12, 5]]\nThe Kth column of matrix is : [6, 10, 5]\n",
          "output_type": "stream"
        }
      ],
      "execution_count": 8
    },
    {
      "cell_type": "code",
      "source": "#9 Python – Vertical Concatenation in Matrix\ntest_list = [[\"Gfg\", \"good\"], [\"is\", \"for\"], [\"Best\"]]\nprint(\"The original list : \" + str(test_list))\nres = []\nN = 0\nwhile N != len(test_list):\n\ttemp = ''\n\tfor idx in test_list:\n\t\ttry: temp = temp + idx[N]\n\t\texcept IndexError: pass\n\tres.append(temp)\n\tN = N + 1\nres = [ele for ele in res if ele]\nprint(\"List after column Concatenation : \" + str(res))\n",
      "metadata": {
        "trusted": true
      },
      "outputs": [
        {
          "name": "stdout",
          "text": "The original list : [['Gfg', 'good'], ['is', 'for'], ['Best']]\nList after column Concatenation : ['GfgisBest', 'goodfor']\n",
          "output_type": "stream"
        }
      ],
      "execution_count": 9
    },
    {
      "cell_type": "code",
      "source": "",
      "metadata": {
        "trusted": true
      },
      "outputs": [],
      "execution_count": null
    }
  ]
}