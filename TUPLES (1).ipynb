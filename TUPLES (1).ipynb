{
  "metadata": {
    "kernelspec": {
      "name": "python",
      "display_name": "Python (Pyodide)",
      "language": "python"
    },
    "language_info": {
      "codemirror_mode": {
        "name": "python",
        "version": 3
      },
      "file_extension": ".py",
      "mimetype": "text/x-python",
      "name": "python",
      "nbconvert_exporter": "python",
      "pygments_lexer": "ipython3",
      "version": "3.8"
    }
  },
  "nbformat_minor": 4,
  "nbformat": 4,
  "cells": [
    {
      "cell_type": "code",
      "source": "# 1.\tPython program to Find the size of a Tuple\ndef tuple_size(tup):\n    return len(tup)\n\nmy_tuple = (1, 2, 3, 4, 5)\nprint(\"Size of the tuple:\", tuple_size(my_tuple))\n     ",
      "metadata": {
        "trusted": true
      },
      "outputs": [
        {
          "name": "stdout",
          "text": "Size of the tuple: 5\n",
          "output_type": "stream"
        }
      ],
      "execution_count": 1
    },
    {
      "cell_type": "code",
      "source": "# 2.\tPython – Maximum and Minimum K elements in Tuple\ndef max_min_k_elements(tup, k):\n    return (sorted(tup)[:k], sorted(tup, reverse=True)[:k])\n\nmy_tuple = (4, 7, 1, 9, 3, 5)\nk = 3\nprint(\"Maximum and Minimum\", k, \"elements in the tuple:\", max_min_k_elements(my_tuple, k))\n     ",
      "metadata": {
        "trusted": true
      },
      "outputs": [
        {
          "name": "stdout",
          "text": "Maximum and Minimum 3 elements in the tuple: ([1, 3, 4], [9, 7, 5])\n",
          "output_type": "stream"
        }
      ],
      "execution_count": 2
    },
    {
      "cell_type": "code",
      "source": "# 3.\tCreate a list of tuples from given list having number and its cube in each tuple\ndef number_cube_tuples(lst):\n    return [(x, x**3) for x in lst]\n\nmy_list = [1, 2, 3, 4, 5]\nprint(\"List of tuples with number and its cube:\", number_cube_tuples(my_list))",
      "metadata": {
        "trusted": true
      },
      "outputs": [
        {
          "name": "stdout",
          "text": "List of tuples with number and its cube: [(1, 1), (2, 8), (3, 27), (4, 64), (5, 125)]\n",
          "output_type": "stream"
        }
      ],
      "execution_count": 3
    },
    {
      "cell_type": "code",
      "source": "\n# 4.\tPython – Adding Tuple to List and vice – versa\nmy_list = [(1, 2), (3, 4), (5, 6)]\nmy_tuple = (7, 8)\n\n# Adding tuple to list\nmy_list.append(my_tuple)\nprint(\"List after adding tuple:\", my_list)\n\n# Converting list to tuple\nmy_tuple_list = tuple(my_list)\nprint(\"Tuple converted from list:\", my_tuple_list)\n     ",
      "metadata": {
        "trusted": true
      },
      "outputs": [
        {
          "name": "stdout",
          "text": "List after adding tuple: [(1, 2), (3, 4), (5, 6), (7, 8)]\nTuple converted from list: ((1, 2), (3, 4), (5, 6), (7, 8))\n",
          "output_type": "stream"
        }
      ],
      "execution_count": 4
    },
    {
      "cell_type": "code",
      "source": "# 5.\tPython – Closest Pair to Kth index element in Tuple\ndef closest_pair_to_k(tup, k):\n    return sorted(tup, key=lambda x: abs(x - tup[k]))[:2]\n\nmy_tuple = (1, 3, 5, 7, 9)\nk = 2\nprint(\"Closest pair to\", k, \"index element:\", closest_pair_to_k(my_tuple, k))\n     ",
      "metadata": {
        "trusted": true
      },
      "outputs": [
        {
          "name": "stdout",
          "text": "Closest pair to 2 index element: [5, 3]\n",
          "output_type": "stream"
        }
      ],
      "execution_count": 5
    },
    {
      "cell_type": "code",
      "source": "# 6.\tPython – Join Tuples if similar initial element\ndef join_tuples(tuples_list):\n    result = []\n    temp = ()\n    for tup in tuples_list:\n        if not temp or temp[0] == tup[0]:\n            temp += tup\n        else:\n            result.append(temp)\n            temp = tup\n    result.append(temp)\n    return result\n\nmy_tuples = [(1, 2), (1, 3), (2, 4), (3, 5), (3, 6)]\nprint(\"Joined Tuples:\", join_tuples(my_tuples))",
      "metadata": {
        "trusted": true
      },
      "outputs": [
        {
          "name": "stdout",
          "text": "Joined Tuples: [(1, 2, 1, 3), (2, 4), (3, 5, 3, 6)]\n",
          "output_type": "stream"
        }
      ],
      "execution_count": 6
    },
    {
      "cell_type": "code",
      "source": "# 7.\tPython – Extract digits from Tuple list\ndef extract_digits(tup_list):\n    return [int(digit) for tup in tup_list for digit in str(tup) if digit.isdigit()]\n\nmy_tuples = [(12, 34), (45, 67), (89, 10)]\nprint(\"Extracted digits from tuple list:\", extract_digits(my_tuples))\n     \n",
      "metadata": {
        "trusted": true
      },
      "outputs": [
        {
          "name": "stdout",
          "text": "Extracted digits from tuple list: [1, 2, 3, 4, 4, 5, 6, 7, 8, 9, 1, 0]\n",
          "output_type": "stream"
        }
      ],
      "execution_count": 7
    },
    {
      "cell_type": "code",
      "source": "# 8.\tPython – All pair combinations of 2 tuples\nfrom itertools import product\n\ndef tuple_combinations(tup1, tup2):\n    return list(product(tup1, tup2))\n\ntuple1 = (1, 2)\ntuple2 = (3, 4)\nprint(\"All pair combinations of 2 tuples:\", tuple_combinations(tuple1, tuple2))\n     \n",
      "metadata": {
        "trusted": true
      },
      "outputs": [
        {
          "name": "stdout",
          "text": "All pair combinations of 2 tuples: [(1, 3), (1, 4), (2, 3), (2, 4)]\n",
          "output_type": "stream"
        }
      ],
      "execution_count": 8
    },
    {
      "cell_type": "code",
      "source": "# 9.\tPython – Remove Tuples of Length K\ndef remove_tuples_of_length_k(tup_list, k):\n    return [tup for tup in tup_list if len(tup) != k]\n\nmy_tuples = [(1, 2), (3, 4, 5), (6,), (7, 8, 9)]\nk = 2\nprint(\"Tuples after removing length\", k, \":\", remove_tuples_of_length_k(my_tuples, k))\n     ",
      "metadata": {
        "trusted": true
      },
      "outputs": [
        {
          "name": "stdout",
          "text": "Tuples after removing length 2 : [(3, 4, 5), (6,), (7, 8, 9)]\n",
          "output_type": "stream"
        }
      ],
      "execution_count": 9
    },
    {
      "cell_type": "code",
      "source": "# 10.\tSort a list of tuples by second Item\nmy_list = [(2, 5), (1, 3), (4, 7), (3, 2)]\nsorted_list = sorted(my_list, key=lambda x: x[1])\nprint(\"Sorted list of tuples by second item:\", sorted_list)\n     \n",
      "metadata": {
        "trusted": true
      },
      "outputs": [
        {
          "name": "stdout",
          "text": "Sorted list of tuples by second item: [(3, 2), (1, 3), (2, 5), (4, 7)]\n",
          "output_type": "stream"
        }
      ],
      "execution_count": 10
    },
    {
      "cell_type": "code",
      "source": "# 11.\tPython program to Order Tuples using external List\nmy_list = [(1, 'a'), (2, 'b'), (3, 'c')]\norder = [2, 0, 1]\nordered_list = [my_list[i] for i in order]\nprint(\"Ordered list of tuples using external list:\", ordered_list)\n     ",
      "metadata": {
        "trusted": true
      },
      "outputs": [
        {
          "name": "stdout",
          "text": "Ordered list of tuples using external list: [(3, 'c'), (1, 'a'), (2, 'b')]\n",
          "output_type": "stream"
        }
      ],
      "execution_count": 11
    },
    {
      "cell_type": "code",
      "source": "# 12.\tPython – Flatten tuple of List to tuple\ndef flatten_tuple_list(tuple_list):\n    return tuple(item for sublist in tuple_list for item in sublist)\n\nmy_tuple_list = [(1, 2), (3, 4), (5, 6)]\nprint(\"Flattened tuple:\", flatten_tuple_list(my_tuple_list))",
      "metadata": {
        "trusted": true
      },
      "outputs": [
        {
          "name": "stdout",
          "text": "Flattened tuple: (1, 2, 3, 4, 5, 6)\n",
          "output_type": "stream"
        }
      ],
      "execution_count": 12
    },
    {
      "cell_type": "code",
      "source": "# 13.\tPython – Convert Nested Tuple to Custom Key Dictionary\ndef nested_tuple_to_dict(nested_tuple):\n    return {tup[0]: tup[1] for tup in nested_tuple}\n\nmy_nested_tuple = (('a', 1), ('b', 2), ('c', 3))\nprint(\"Dictionary from nested tuple:\", nested_tuple_to_dict(my_nested_tuple))\n     ",
      "metadata": {
        "trusted": true
      },
      "outputs": [
        {
          "name": "stdout",
          "text": "Dictionary from nested tuple: {'a': 1, 'b': 2, 'c': 3}\n",
          "output_type": "stream"
        }
      ],
      "execution_count": 13
    },
    {
      "cell_type": "code",
      "source": "",
      "metadata": {
        "trusted": true
      },
      "outputs": [],
      "execution_count": null
    }
  ]
}