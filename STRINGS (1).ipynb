{
  "metadata": {
    "kernelspec": {
      "name": "python",
      "display_name": "Python (Pyodide)",
      "language": "python"
    },
    "language_info": {
      "codemirror_mode": {
        "name": "python",
        "version": 3
      },
      "file_extension": ".py",
      "mimetype": "text/x-python",
      "name": "python",
      "nbconvert_exporter": "python",
      "pygments_lexer": "ipython3",
      "version": "3.8"
    }
  },
  "nbformat_minor": 4,
  "nbformat": 4,
  "cells": [
    {
      "cell_type": "code",
      "source": "# 1.Python program to check if a string is palindrome or not\ndef is_palindrome(s):\n    return s == s[::-1]\n\nresult = is_palindrome(\"radar\")\nprint(\"Is the string a palindrome:\", result)\n",
      "metadata": {
        "trusted": true
      },
      "outputs": [
        {
          "name": "stdout",
          "text": "Is the string a palindrome: True\n",
          "output_type": "stream"
        }
      ],
      "execution_count": 1
    },
    {
      "cell_type": "code",
      "source": "# 2.Python program to check whether the string is Symmetrical or Palindrome\ndef is_symmetrical_and_palindrome(s):\n    return s == s[::-1] and s == s[::-1]\nresult = is_symmetrical_and_palindrome(\"level\")\nprint(\"Is the string symmetrical and palindrome:\", result)\n",
      "metadata": {
        "trusted": true
      },
      "outputs": [
        {
          "name": "stdout",
          "text": "Is the string symmetrical and palindrome: True\n",
          "output_type": "stream"
        }
      ],
      "execution_count": 2
    },
    {
      "cell_type": "code",
      "source": "# 3.Reverse words in a given String in Python\ndef reverse_words(s):\n    return ' '.join(word[::-1] for word in s.split())\n\nresult = reverse_words(\"Hello World\")\nprint(\"String with reversed words:\", result)\n",
      "metadata": {
        "trusted": true
      },
      "outputs": [
        {
          "name": "stdout",
          "text": "String with reversed words: olleH dlroW\n",
          "output_type": "stream"
        }
      ],
      "execution_count": 3
    },
    {
      "cell_type": "code",
      "source": "# 4.Ways to remove i’th character from string in Python\ndef remove_ith_character(s, i):\n    return s[:i] + s[i+1:]\n\nresult = remove_ith_character(\"Python\", 2)\nprint(\"String after removing 2nd character:\", result)",
      "metadata": {
        "trusted": true
      },
      "outputs": [
        {
          "name": "stdout",
          "text": "String after removing 2nd character: Pyhon\n",
          "output_type": "stream"
        }
      ],
      "execution_count": 4
    },
    {
      "cell_type": "code",
      "source": "# 5.Python | Check if a Substring is Present in a Given String\ndef is_substring_present(main_string, substring):\n    return substring in main_string\nresult = is_substring_present(\"Python Programming\", \"Pro\")\nprint(\"Is 'Pro' present in the string:\", result)\n",
      "metadata": {
        "trusted": true
      },
      "outputs": [
        {
          "name": "stdout",
          "text": "Is 'Pro' present in the string: True\n",
          "output_type": "stream"
        }
      ],
      "execution_count": 5
    },
    {
      "cell_type": "code",
      "source": "#6 Python – Words Frequency in String Shorthands\ndef words_frequency(s):\n    return {word: s.split().count(word) for word in set(s.split())}\n\nresult = words_frequency(\"Python is fun and Python is versatile\")\nprint(\"Word frequencies in the string:\", result)\n",
      "metadata": {
        "trusted": true
      },
      "outputs": [
        {
          "name": "stdout",
          "text": "Word frequencies in the string: {'Python': 2, 'fun': 1, 'versatile': 1, 'and': 1, 'is': 2}\n",
          "output_type": "stream"
        }
      ],
      "execution_count": 6
    },
    {
      "cell_type": "code",
      "source": "#7 Python – Convert Snake case to Pascal case\ndef snake_to_pascal_case(s):\n    return ''.join(word.capitalize() for word in s.split('_'))\nresult = snake_to_pascal_case(\"python_programming_language\")\nprint(\"Pascal case conversion:\", result)\n",
      "metadata": {
        "trusted": true
      },
      "outputs": [
        {
          "name": "stdout",
          "text": "Pascal case conversion: PythonProgrammingLanguage\n",
          "output_type": "stream"
        }
      ],
      "execution_count": 7
    },
    {
      "cell_type": "code",
      "source": "#8 Find length of a string in python (4 ways)\n# Method 1:\nlength1 = len(\"Hello\")\n\n# Method 2:\nlength2 = sum(1 for _ in \"Hello\")\n\n# Method 3:\nlength3 = 0\nfor _ in \"Hello\":\n    length3 += 1\n\n# Method 4:\nlength4 = 0\nwhile \"Hello\"[length4:]:\n    length4 += 1\n\nprint(\"Length using different methods:\", length1, length2, length3, length4)",
      "metadata": {
        "trusted": true
      },
      "outputs": [
        {
          "name": "stdout",
          "text": "Length using different methods: 5 5 5 5\n",
          "output_type": "stream"
        }
      ],
      "execution_count": 8
    },
    {
      "cell_type": "code",
      "source": "#9\tPython program to print even length words in a string\ndef print_even_length_words(s):\n    return [word for word in s.split() if len(word) % 2 == 0]\nresult = print_even_length_words(\"Python is an amazing programming language\")\nprint(\"Even length words in the string:\", result)",
      "metadata": {
        "trusted": true
      },
      "outputs": [
        {
          "name": "stdout",
          "text": "Even length words in the string: ['Python', 'is', 'an', 'language']\n",
          "output_type": "stream"
        }
      ],
      "execution_count": 9
    },
    {
      "cell_type": "code",
      "source": "#10 Python program to accept the strings which contains all vowels\ndef contains_all_vowels(s):\n    return all(char in s.lower() for char in 'aeiou')\nresult = contains_all_vowels(\"education\")\nprint(\"Does the string contain all vowels:\", result)",
      "metadata": {
        "trusted": true
      },
      "outputs": [
        {
          "name": "stdout",
          "text": "Does the string contain all vowels: True\n",
          "output_type": "stream"
        }
      ],
      "execution_count": 10
    },
    {
      "cell_type": "code",
      "source": "#11\tPython | Count the Number of matching characters in a pair of string\ndef count_matching_characters(s1, s2):\n    return sum(1 for char in set(s1) if char in s2)\nresult = count_matching_characters(\"hello\", \"world\")\nprint(\"Number of matching characters:\", result)",
      "metadata": {
        "trusted": true
      },
      "outputs": [
        {
          "name": "stdout",
          "text": "Number of matching characters: 2\n",
          "output_type": "stream"
        }
      ],
      "execution_count": 11
    },
    {
      "cell_type": "code",
      "source": "#12\tRemove all duplicates from a given string in Python\ndef remove_duplicates(s):\n    return ''.join(char for char in sorted(set(s), key=s.index))\nresult = remove_duplicates(\"programming\")\nprint(\"String after removing duplicates:\", result)\n",
      "metadata": {
        "trusted": true
      },
      "outputs": [
        {
          "name": "stdout",
          "text": "String after removing duplicates: progamin\n",
          "output_type": "stream"
        }
      ],
      "execution_count": 12
    },
    {
      "cell_type": "code",
      "source": "\n#13\tPython – Least Frequent Character in String\ndef least_frequent_character(s):\n    return min(set(s), key=s.count)\nresult = least_frequent_character(\"programming\")\nprint(\"Least frequent character:\", result)\n",
      "metadata": {
        "trusted": true
      },
      "outputs": [
        {
          "name": "stdout",
          "text": "Least frequent character: p\n",
          "output_type": "stream"
        }
      ],
      "execution_count": 13
    },
    {
      "cell_type": "code",
      "source": "# 14.\tPython | Maximum frequency character in String\ndef maximum_frequency_character(s):\n    return max(set(s), key=s.count)\n\n# Example usage:\nresult = maximum_frequency_character(\"programming\")\nprint(\"Maximum frequency character:\", result)\n\n     \n",
      "metadata": {
        "trusted": true
      },
      "outputs": [
        {
          "name": "stdout",
          "text": "Maximum frequency character: r\n",
          "output_type": "stream"
        }
      ],
      "execution_count": 14
    },
    {
      "cell_type": "code",
      "source": "# 15.\tPython | Program to check if a string contains any special character\ndef contains_special_character(s):\n    return any(char.isalnum() for char in s)\n\n# Example usage:\nresult = contains_special_character(\"Python@123\")\nprint(\"Does the string contain special character:\", result)\n\n     \n",
      "metadata": {
        "trusted": true
      },
      "outputs": [
        {
          "name": "stdout",
          "text": "Does the string contain special character: True\n",
          "output_type": "stream"
        }
      ],
      "execution_count": 15
    },
    {
      "cell_type": "code",
      "source": "# 16.\tGenerating random strings until a given string is generated\nimport random\nimport string\n\ndef generate_random_string(length):\n    return ''.join(random.choice(string.ascii_letters) for _ in range(length))\n\n# Example usage:\ngiven_string = \"TargetString\"\ngenerated_string = generate_random_string(len(given_string))\nprint(\"Generated random string:\", generated_string)\n",
      "metadata": {
        "trusted": true
      },
      "outputs": [
        {
          "name": "stdout",
          "text": "Generated random string: AMmdRCQvWBeb\n",
          "output_type": "stream"
        }
      ],
      "execution_count": 16
    },
    {
      "cell_type": "code",
      "source": "# 17.\tFind words which are greater than given length k\ndef find_words_greater_than_length(s, k):\n    return [word for word in s.split() if len(word) > k]\n\n# Example usage:\nresult = find_words_greater_than_length(\"Python is awesome\", 4)\nprint(\"Words greater than length 4:\", result)",
      "metadata": {
        "trusted": true
      },
      "outputs": [
        {
          "name": "stdout",
          "text": "Words greater than length 4: ['Python', 'awesome']\n",
          "output_type": "stream"
        }
      ],
      "execution_count": 17
    },
    {
      "cell_type": "code",
      "source": "# 18.\tPython program for removing i-th character from a string\ndef remove_ith_character(s, i):\n    return s[:i] + s[i+1:]\n\n# Example usage:\nresult = remove_ith_character(\"Python\", 2)\nprint(\"String after removing 2nd character:\", result)\n",
      "metadata": {
        "trusted": true
      },
      "outputs": [
        {
          "name": "stdout",
          "text": "String after removing 2nd character: Pyhon\n",
          "output_type": "stream"
        }
      ],
      "execution_count": 18
    },
    {
      "cell_type": "code",
      "source": "# 19.\tPython program to split and join a string\ndef split_and_join(s):\n    words = s.split()\n    joined_string = '-'.join(words)\n    return words, joined_string\n\n# Example usage:\nresult_words, result_joined_string = split_and_join(\"Python is powerful\")\nprint(\"Split words:\", result_words)\nprint(\"Joined string with '-':\", result_joined_string)\n",
      "metadata": {
        "trusted": true
      },
      "outputs": [
        {
          "name": "stdout",
          "text": "Split words: ['Python', 'is', 'powerful']\nJoined string with '-': Python-is-powerful\n",
          "output_type": "stream"
        }
      ],
      "execution_count": 19
    },
    {
      "cell_type": "code",
      "source": "# 20.\tPython | Check if a given string is binary string or not\ndef is_binary_string(s):\n    return all(char in '01' for char in s)\n\n# Example usage:\nresult = is_binary_string(\"101001\")\nprint(\"Is the string a binary string:\", result)",
      "metadata": {
        "trusted": true
      },
      "outputs": [
        {
          "name": "stdout",
          "text": "Is the string a binary string: True\n",
          "output_type": "stream"
        }
      ],
      "execution_count": 20
    },
    {
      "cell_type": "code",
      "source": "# 21.\tPython program to find uncommon words from two Strings\ndef find_uncommon_words(s1, s2):\n    set1 = set(s1.split())\n    set2 = set(s2.split())\n    uncommon_words = set1.symmetric_difference(set2)\n    return list(uncommon_words)\n\n# Example usage:\nresult = find_uncommon_words(\"Python is powerful\", \"Java is versatile\")\nprint(\"Uncommon words between two strings:\", result)\n",
      "metadata": {
        "trusted": true
      },
      "outputs": [
        {
          "name": "stdout",
          "text": "Uncommon words between two strings: ['Python', 'powerful', 'Java', 'versatile']\n",
          "output_type": "stream"
        }
      ],
      "execution_count": 21
    },
    {
      "cell_type": "code",
      "source": "# 22.\tPython – Replace duplicate Occurrence in String\ndef replace_duplicate_occurrence(s):\n    seen = set()\n    result = []\n    for char in s:\n        if char not in seen:\n            seen.add(char)\n            result.append(char)\n        else:\n            result.append('$')  # or any other replacement character\n    return ''.join(result)\n\n# Example usage:\nresult = replace_duplicate_occurrence(\"programming\")\nprint(\"String with duplicate occurrence replaced:\", result)\n",
      "metadata": {
        "trusted": true
      },
      "outputs": [
        {
          "name": "stdout",
          "text": "String with duplicate occurrence replaced: prog$am$in$\n",
          "output_type": "stream"
        }
      ],
      "execution_count": 22
    },
    {
      "cell_type": "code",
      "source": "# 23.\tPython – Replace multiple words with K\ndef replace_multiple_words(s, words_to_replace, replacement):\n    for word in words_to_replace:\n        s = s.replace(word, replacement)\n    return s\n\n# Example usage:\nresult = replace_multiple_words(\"Python is fun and Python is versatile\", ['Python', 'is'], 'K')\nprint(\"String after replacing multiple words:\", result)\n",
      "metadata": {
        "trusted": true
      },
      "outputs": [
        {
          "name": "stdout",
          "text": "String after replacing multiple words: K K fun and K K versatile\n",
          "output_type": "stream"
        }
      ],
      "execution_count": 23
    },
    {
      "cell_type": "code",
      "source": "# 24.\tPython | Permutation of a given string using inbuilt function\nfrom itertools import permutations\n\ndef string_permutations(s):\n    return [''.join(p) for p in permutations(s)]\n\n# Example usage:\nresult = string_permutations(\"abc\")\nprint(\"Permutations of the string:\", result)",
      "metadata": {
        "trusted": true
      },
      "outputs": [
        {
          "name": "stdout",
          "text": "Permutations of the string: ['abc', 'acb', 'bac', 'bca', 'cab', 'cba']\n",
          "output_type": "stream"
        }
      ],
      "execution_count": 24
    },
    {
      "cell_type": "code",
      "source": "# 25.\tPython | Check for URL in a String\nimport re\n\ndef contains_url(s):\n    url_pattern = re.compile(r'https?://\\S+')\n    return bool(url_pattern.search(s))\n\n# Example usage:\nresult = contains_url(\"Check out this website: https://www.example.com\")\nprint(\"Does the string contain a URL:\", result)\n",
      "metadata": {
        "trusted": true
      },
      "outputs": [
        {
          "name": "stdout",
          "text": "Does the string contain a URL: True\n",
          "output_type": "stream"
        }
      ],
      "execution_count": 25
    },
    {
      "cell_type": "code",
      "source": "# 26.\tExecute a String of Code in Python\ndef execute_code_string(code_string):\n    try:\n        exec(code_string)\n    except Exception as e:\n        return f\"Error: {e}\"\n\n# Example usage:\ncode_string = \"print('Hello, World!')\"\nresult = execute_code_string(code_string)",
      "metadata": {
        "trusted": true
      },
      "outputs": [
        {
          "name": "stdout",
          "text": "Hello, World!\n",
          "output_type": "stream"
        }
      ],
      "execution_count": 26
    },
    {
      "cell_type": "code",
      "source": "# 27.\tString slicing in Python to rotate a string\ndef rotate_string(s, k):\n    return s[k:] + s[:k]\n\n# Example usage:\nresult = rotate_string(\"Python\", 3)\nprint(\"Rotated string:\", result)",
      "metadata": {
        "trusted": true
      },
      "outputs": [
        {
          "name": "stdout",
          "text": "Rotated string: honPyt\n",
          "output_type": "stream"
        }
      ],
      "execution_count": 27
    },
    {
      "cell_type": "code",
      "source": "# 28.\tString slicing in Python to check if a string can become empty by recursive deletion\ndef can_become_empty(s, target):\n    while s:\n        s = s.replace(target, '')\n    return not bool(s)\n\n# Example usage:\nresult = can_become_empty(\"abccab\", \"abc\")\nprint(\"Can the string become empty:\", result)",
      "metadata": {
        "trusted": true
      },
      "outputs": [],
      "execution_count": null
    },
    {
      "cell_type": "code",
      "source": "# 29.\tPython Counter| Find all duplicate characters in string\nfrom collections import Counter\n\ndef find_duplicate_characters(s):\n    char_count = Counter(s)\n    return [char for char, count in char_count.items() if count > 1]\n\n# Example usage:\nresult = find_duplicate_characters(\"programming\")\nprint(\"Duplicate characters in the string:\", result)\n\n     ",
      "metadata": {
        "trusted": true
      },
      "outputs": [],
      "execution_count": null
    },
    {
      "cell_type": "code",
      "source": "# 30.\tPython – Replace all occurrences of a substring in a string\ndef replace_substring(s, old_substring, new_substring):\n    return s.replace(old_substring, new_substring)\n\n# Example usage:\nresult = replace_substring(\"Python is easy. Python is powerful.\", \"Python\", \"Java\")\nprint(\"String after replacing substring:\", result)",
      "metadata": {
        "trusted": true
      },
      "outputs": [],
      "execution_count": null
    },
    {
      "cell_type": "code",
      "source": "",
      "metadata": {
        "trusted": true
      },
      "outputs": [],
      "execution_count": null
    }
  ]
}