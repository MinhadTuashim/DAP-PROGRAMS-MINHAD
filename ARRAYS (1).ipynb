{
  "metadata": {
    "kernelspec": {
      "name": "python",
      "display_name": "Python (Pyodide)",
      "language": "python"
    },
    "language_info": {
      "codemirror_mode": {
        "name": "python",
        "version": 3
      },
      "file_extension": ".py",
      "mimetype": "text/x-python",
      "name": "python",
      "nbconvert_exporter": "python",
      "pygments_lexer": "ipython3",
      "version": "3.8"
    }
  },
  "nbformat_minor": 4,
  "nbformat": 4,
  "cells": [
    {
      "cell_type": "code",
      "source": "#1 Python Program to find sum of array\narr = [1,2,3,4]\nSum = 0\nfor i in range(len(arr)):\n   Sum = Sum + arr[i]\nprint (Sum)",
      "metadata": {
        "trusted": true
      },
      "outputs": [
        {
          "name": "stdout",
          "text": "10\n",
          "output_type": "stream"
        }
      ],
      "execution_count": 1
    },
    {
      "cell_type": "code",
      "source": "#2 Python Program to find largest element in an array\narr = [10, 89, 9, 56, 4, 80, 8]\nmini = arr[0]\nmaxi = arr[0]\nfor i in range(len(arr)):\n  if arr[i] < mini: mini = arr[i]   \nif arr[i] > maxi: maxi = arr[i]\nprint (mini)\nprint (maxi)",
      "metadata": {
        "trusted": true
      },
      "outputs": [
        {
          "name": "stdout",
          "text": "4\n10\n",
          "output_type": "stream"
        }
      ],
      "execution_count": 2
    },
    {
      "cell_type": "code",
      "source": "#3 Python Program for array rotation\ndef rotateArray(a,d):\n    temp = []\n    n=len(a)\n    for i in range(d,n):\n        temp.append(a[i])\n    i = 0\n    for i in range (0,d):\n        temp.append(a[i])\n    a=temp.copy()\n    return a\n \narr = [1, 2, 3, 4, 5, 6, 7]\nprint(\"Array after left rotation is: \", end=' ')\nprint(rotateArray(arr, 2))",
      "metadata": {
        "trusted": true
      },
      "outputs": [
        {
          "name": "stdout",
          "text": "Array after left rotation is:  [3, 4, 5, 6, 7, 1, 2]\n",
          "output_type": "stream"
        }
      ],
      "execution_count": 3
    },
    {
      "cell_type": "code",
      "source": "#4 Python Program for Reversal algorithm for array rotation\ndef rverseArray(arr, start, end):\n\twhile (start < end):\n\t\ttemp = arr[start]\n\t\tarr[start] = arr[end]\n\t\tarr[end] = temp\n\t\tstart += 1\n\t\tend = end-1\ndef leftRotate(arr, d):\n\tn = len(arr)\n\trverseArray(arr, 0, d-1)\n\trverseArray(arr, d, n-1)\n\trverseArray(arr, 0, n-1)\ndef printArray(arr):\n\tfor i in range(0, len(arr)):\n\t\tprint (arr[i])\narr = [2, 3, 5, 7, 8, 7]\nleftRotate(arr, 2) \nprintArray(arr)\n",
      "metadata": {
        "trusted": true,
        "scrolled": true
      },
      "outputs": [
        {
          "name": "stdout",
          "text": "5\n7\n8\n7\n2\n3\n",
          "output_type": "stream"
        }
      ],
      "execution_count": 4
    },
    {
      "cell_type": "code",
      "source": "#5 Python Program to Split the array and add the first part to the end\ndef splitArr(arr, n, k):\n\tfor i in range(0, k):\n\t\tx = arr[0]\n\t\tfor j in range(0, n-1):\n\t\t\tarr[j] = arr[j + 1]\n\n\t\tarr[n-1] = x\narr = [1,5,8,2,6]\nn = len(arr)\nposition = 2\n\nsplitArr(arr, n, position)\nfor i in range(0, n):\n\tprint(arr[i], end=' ')\n",
      "metadata": {
        "trusted": true
      },
      "outputs": [
        {
          "name": "stdout",
          "text": "8 2 6 1 5 ",
          "output_type": "stream"
        }
      ],
      "execution_count": 5
    },
    {
      "cell_type": "code",
      "source": "#6 Python Program for Find reminder of array multiplication divided by n\ndef findrem(arr, len, n):\n\tproduct = 1\n\tfor i in range(len):\n\t\tproduct = product * arr[i]\n\treturn product % n\n\n\narr = [10, 30, 5, 2, 3, 25]\nlen = len(arr)\nn = 11\nprint(findrem(arr, len, n))",
      "metadata": {
        "trusted": true,
        "jupyter": {
          "source_hidden": true
        }
      },
      "outputs": [
        {
          "name": "stdout",
          "text": "6\n",
          "output_type": "stream"
        }
      ],
      "execution_count": 6
    },
    {
      "cell_type": "code",
      "source": "#7 Python Program to check if given array is Monotonic\ndef Mono(A):\n\tx, y = [], []\n\tx.extend(A)\n\ty.extend(A)\n\tx.sort()\n\ty.sort(reverse=True)\n\tif(x == A or y == A):\n\t\treturn True\n\treturn False\nA = [7, 5, 4, 4]\n\n# Print required result\nprint(Mono(A))\n",
      "metadata": {
        "trusted": true
      },
      "outputs": [
        {
          "name": "stdout",
          "text": "True\n",
          "output_type": "stream"
        }
      ],
      "execution_count": 7
    },
    {
      "cell_type": "code",
      "source": "",
      "metadata": {
        "trusted": true
      },
      "outputs": [],
      "execution_count": null
    }
  ]
}